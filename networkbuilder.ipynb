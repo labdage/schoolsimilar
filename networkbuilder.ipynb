{
 "cells": [
  {
   "attachments": {},
   "cell_type": "markdown",
   "metadata": {},
   "source": [
    "## Import de bibliotecas necessárias para o funcionamento do script"
   ]
  },
  {
   "cell_type": "code",
   "execution_count": 11,
   "metadata": {},
   "outputs": [],
   "source": [
    "import pandas as pd\n",
    "import networkx as nx\n",
    "import os"
   ]
  },
  {
   "attachments": {},
   "cell_type": "markdown",
   "metadata": {},
   "source": [
    "## Construção de arestas baseados nas igualdades de combinação e subgrupo e adicionando-as ao objeto com os nós"
   ]
  },
  {
   "cell_type": "code",
   "execution_count": 12,
   "metadata": {},
   "outputs": [],
   "source": [
    "def gerar_edges(dados_para_conversao):\n",
    "    edges = []\n",
    "    for (index, item) in dados_para_conversao.iterrows():\n",
    "        for index2, item2 in dados_para_conversao.iterrows():\n",
    "            # 0 é o índice de código da escola\n",
    "            if(item[0] != item2[0]):\n",
    "                quantidade_de_associacoes = 0\n",
    "                \n",
    "                # 21 é o indice de combinações\n",
    "                if(item[21] == item2[21]):\n",
    "                    quantidade_de_associacoes = quantidade_de_associacoes+1\n",
    "\n",
    "                # 9 é o indice de subgrupo\n",
    "                if(item[9] == item2[9]):\n",
    "                    quantidade_de_associacoes = quantidade_de_associacoes+1\n",
    "\n",
    "                if(quantidade_de_associacoes > 0):\n",
    "                    e = ((item[1]), (item2[1]), quantidade_de_associacoes)\n",
    "                    edges.append(e)\n",
    "\n",
    "    return edges"
   ]
  },
  {
   "cell_type": "code",
   "execution_count": 13,
   "metadata": {},
   "outputs": [],
   "source": [
    "def gerar_atributos_de_rede(rede, arquivo_nome, urbano_ou_rural):\n",
    "    \n",
    "    global_efficiency = nx.global_efficiency(rede)\n",
    "    local_efficiency = nx.local_efficiency(rede)\n",
    "    modularity = nx.community.modularity(rede, nx.community.label_propagation_communities(rede))\n",
    "    #fonte da densidade: networkx.org/documentation/stable/reference/generated/networkx.classes.function.density.html\n",
    "    densidade = (2*len(rede.edges))/ (len(rede.nodes)*(len(rede.nodes)-1))\n",
    "    assortativity = nx.degree_pearson_correlation_coefficient(rede)\n",
    "    average_shortest_path = nx.average_shortest_path_length(rede)\n",
    "\n",
    "    simrank_similarity = nx.simrank_similarity(rede)\n",
    "    jaccard_coefficient = nx.jaccard_coefficient(rede)\n",
    "\n",
    "    simrank_pd = pd.DataFrame(simrank_similarity)\n",
    "    jaccard_coefficient_pd = pd.DataFrame(jaccard_coefficient)\n",
    "    \n",
    "    simrank_pd.melt()\n",
    "    jaccard_coefficient_pd.melt()\n",
    "\n",
    "    network_attributes = {\n",
    "        'global_efficiency': global_efficiency,\n",
    "        'local_efficiency': local_efficiency,\n",
    "        'density': densidade,\n",
    "        'modularity': modularity,\n",
    "        'assortativity': assortativity,\n",
    "        'average_shortest_path': average_shortest_path\n",
    "    }\n",
    "\n",
    "    network_attributes_df = pd.DataFrame(network_attributes.items())\n",
    "\n",
    "    simrank_pd.to_csv(\"Resultados/\"+arquivo_nome[:-5]+\" - \"+urbano_ou_rural+\" - SimRank.csv\")\n",
    "    jaccard_coefficient_pd.to_csv(\"Resultados/\"+arquivo_nome[:-5]+\" - \"+urbano_ou_rural+\" - Jaccard.csv\")\n",
    "    network_attributes_df.to_csv(\"Resultados/\"+arquivo_nome[:-5]+\" - \"+urbano_ou_rural+\".csv\")\n",
    "    "
   ]
  },
  {
   "attachments": {},
   "cell_type": "markdown",
   "metadata": {},
   "source": [
    "## Importação dos dados contidos na mesma pasta e construção dos nós com seus respectivos valores "
   ]
  },
  {
   "cell_type": "code",
   "execution_count": 14,
   "metadata": {},
   "outputs": [],
   "source": [
    "def gerar_graph(arquivo_nome,urbano_ou_rural):\n",
    "    dados_para_conversao = pd.read_excel(arquivo_nome, engine=\"openpyxl\", sheet_name=urbano_ou_rural)\n",
    "\n",
    "    G = nx.Graph()\n",
    "    for (index, item) in dados_para_conversao.iterrows():\n",
    "        G.add_node(item[1], \n",
    "               Nome_da_Escola=item[1],\n",
    "               Nome_do_Municipio=item[2],\n",
    "               Nome_UF=item[3],\n",
    "               Tipo_de_dependencia_administrativa=item[4],\n",
    "               Tipo_de_Localizacao=item[5],\n",
    "               Quantidade_de_alunos=item[6],\n",
    "               INSE_Valor_Absoluto=item[7],\n",
    "               INSE_Classificação=item[8],\n",
    "               Subgrupo=item[9],\n",
    "               Proficiencia_em_Matematica=item[10],\n",
    "               Nivel_de_proficiência_em_Matematica=item[11],\n",
    "               Proficiencia_em_Lingua_Portuguesa=item[12],\n",
    "               Nivel_de_proficiencia_em_Lingua_Portuguesa=item[13],\n",
    "               IDEB=item[14],\n",
    "               Indicador_de_Rendimento=item[15],\n",
    "               Taxa_de_Aprovacao=item[16],\n",
    "               Taxa_de_Reprovacao=item[17],\n",
    "               Taxa_de_Abandono=item[18],\n",
    "               Projecao=item[19],\n",
    "               Atingiu_ou_nao_a_projeção=item[20],\n",
    "               Perfil=item[21]\n",
    "    )\n",
    "    edges = gerar_edges(dados_para_conversao)    \n",
    "    G.add_weighted_edges_from(edges)\n",
    "\n",
    "    gerar_atributos_de_rede(G, arquivo_nome,urbano_ou_rural)\n",
    "    nx.write_graphml(G, \"Resultados/\"+arquivo_nome+\" - \"+urbano_ou_rural+\".graphml\", encoding='utf-8', prettyprint=True)\n"
   ]
  },
  {
   "attachments": {},
   "cell_type": "markdown",
   "metadata": {},
   "source": [
    "# Importando todos os arquivos xlsx"
   ]
  },
  {
   "cell_type": "code",
   "execution_count": 15,
   "metadata": {},
   "outputs": [
    {
     "name": "stderr",
     "output_type": "stream",
     "text": [
      "/Users/filipecruz/Library/Python/3.8/lib/python/site-packages/scipy/stats/_stats_py.py:4424: ConstantInputWarning: An input array is constant; the correlation coefficient is not defined.\n",
      "  warnings.warn(stats.ConstantInputWarning(msg))\n",
      "/Users/filipecruz/Library/Python/3.8/lib/python/site-packages/scipy/stats/_stats_py.py:4424: ConstantInputWarning: An input array is constant; the correlation coefficient is not defined.\n",
      "  warnings.warn(stats.ConstantInputWarning(msg))\n"
     ]
    }
   ],
   "source": [
    "path = os.getcwd()\n",
    "files = os.listdir(path)\n",
    "files_xls = [f for f in files if f[-4:] == 'xlsx']\n",
    "for item in files_xls:\n",
    "    # gerar_graph(item, \"Urbana\")\n",
    "    gerar_graph(item, \"Rural\")\n",
    "    "
   ]
  }
 ],
 "metadata": {
  "kernelspec": {
   "display_name": "Python 3",
   "language": "python",
   "name": "python3"
  },
  "language_info": {
   "codemirror_mode": {
    "name": "ipython",
    "version": 3
   },
   "file_extension": ".py",
   "mimetype": "text/x-python",
   "name": "python",
   "nbconvert_exporter": "python",
   "pygments_lexer": "ipython3",
   "version": "3.8.9"
  },
  "orig_nbformat": 4,
  "vscode": {
   "interpreter": {
    "hash": "31f2aee4e71d21fbe5cf8b01ff0e069b9275f58929596ceb00d14d90e3e16cd6"
   }
  }
 },
 "nbformat": 4,
 "nbformat_minor": 2
}
